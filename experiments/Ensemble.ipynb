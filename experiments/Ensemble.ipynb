{
 "cells": [
  {
   "cell_type": "markdown",
   "id": "cca34841-01cd-4178-8cea-01bdc36aa3a7",
   "metadata": {},
   "source": [
    "# Ensemble Classifier\n",
    "\n",
    "The goal of this is to take the optimized models from all previous experiments and see if they can be combined into something that produces a higher accuracy (ROC)"
   ]
  },
  {
   "cell_type": "code",
   "execution_count": 92,
   "id": "378cbe63-9ad5-419c-99d7-e9b87f5ca20d",
   "metadata": {},
   "outputs": [],
   "source": [
    "import numpy as np\n",
    "\n",
    "from sklearn.metrics import roc_auc_score\n",
    "\n",
    "from joblib import load"
   ]
  },
  {
   "cell_type": "markdown",
   "id": "791e871d-1f38-4525-af17-4d59306035ab",
   "metadata": {},
   "source": [
    "## Utilities"
   ]
  },
  {
   "cell_type": "code",
   "execution_count": 2,
   "id": "0738ba4f-59c3-4fa2-b809-11fcb97faa5d",
   "metadata": {},
   "outputs": [],
   "source": [
    "def process_image_arr_sklearn(images):\n",
    "    return images.reshape(len(images), -1)"
   ]
  },
  {
   "cell_type": "code",
   "execution_count": 3,
   "id": "83f5ce67-c684-475a-b864-f939e95d62b3",
   "metadata": {},
   "outputs": [],
   "source": [
    "def roc(model, X, y):\n",
    "    y_score = model.predict_proba(X)[:, 1]\n",
    "    return roc_auc_score(y, y_score)"
   ]
  },
  {
   "cell_type": "markdown",
   "id": "044ed342-dd53-4af1-8755-fd8ef43a7705",
   "metadata": {},
   "source": [
    "## Load Data"
   ]
  },
  {
   "cell_type": "code",
   "execution_count": 36,
   "id": "7985d042-56f1-4be6-91e6-70f288c7a552",
   "metadata": {},
   "outputs": [],
   "source": [
    "breast = np.load(\"../../data/breastmnist.npz\")\n",
    "pneumonia = np.load(\"../../data/pneumoniamnist.npz\")"
   ]
  },
  {
   "cell_type": "code",
   "execution_count": 39,
   "id": "805e0e8a-3c0e-417c-a635-d6fae1efc62d",
   "metadata": {},
   "outputs": [],
   "source": [
    "breast_trainX = breast[\"train_images\"]\n",
    "breast_trainY = breast[\"train_labels\"].flatten()\n",
    "\n",
    "breast_valX = breast[\"val_images\"]\n",
    "breast_valY = breast[\"val_labels\"].flatten()\n",
    "\n",
    "breast_testX = breast[\"test_images\"]\n",
    "breast_testY = breast[\"test_labels\"].flatten()"
   ]
  },
  {
   "cell_type": "code",
   "execution_count": 37,
   "id": "d6fe807a-d5f5-4269-8fe9-3a11abf3e814",
   "metadata": {},
   "outputs": [],
   "source": [
    "breast_trainX_sk = process_image_arr_sklearn(breast[\"train_images\"])\n",
    "breast_trainY_sk = breast[\"train_labels\"].flatten()\n",
    "\n",
    "breast_valX_sk = process_image_arr_sklearn(breast[\"val_images\"])\n",
    "breast_valY_sk = breast[\"val_labels\"].flatten()\n",
    "\n",
    "breast_testX_sk = process_image_arr_sklearn(breast[\"test_images\"])\n",
    "breast_testY_sk = breast[\"test_labels\"].flatten()"
   ]
  },
  {
   "cell_type": "code",
   "execution_count": 40,
   "id": "7a6a72bb-7ee0-4820-854c-dd965a9842dd",
   "metadata": {},
   "outputs": [],
   "source": [
    "pneumonia_trainX = pneumonia[\"train_images\"]\n",
    "pneumonia_trainY = pneumonia[\"train_labels\"].flatten()\n",
    "\n",
    "pneumonia_valX = pneumonia[\"val_images\"]\n",
    "pneumonia_valY = pneumonia[\"val_labels\"].flatten()\n",
    "\n",
    "pneumonia_testX = pneumonia[\"test_images\"]\n",
    "pneumonia_testY = pneumonia[\"test_labels\"].flatten()"
   ]
  },
  {
   "cell_type": "code",
   "execution_count": 38,
   "id": "47f7f17c-ddf3-441b-a6f8-7f88e359313f",
   "metadata": {},
   "outputs": [],
   "source": [
    "pneumonia_trainX_sk = process_image_arr_sklearn(pneumonia[\"train_images\"])\n",
    "pneumonia_trainY_sk = pneumonia[\"train_labels\"].flatten()\n",
    "\n",
    "pneumonia_valX_sk = process_image_arr_sklearn(pneumonia[\"val_images\"])\n",
    "pneumonia_valY_sk = pneumonia[\"val_labels\"].flatten()\n",
    "\n",
    "pneumonia_testX_sk = process_image_arr_sklearn(pneumonia[\"test_images\"])\n",
    "pneumonia_testY_sk = pneumonia[\"test_labels\"].flatten()"
   ]
  },
  {
   "cell_type": "markdown",
   "id": "98d59353-fc2c-4462-88ff-ad61991cddec",
   "metadata": {},
   "source": [
    "## Load Models"
   ]
  },
  {
   "cell_type": "markdown",
   "id": "c8ccd96b-5389-4af3-a288-35ed84a37beb",
   "metadata": {},
   "source": [
    "Load the `sklearn` models"
   ]
  },
  {
   "cell_type": "code",
   "execution_count": 8,
   "id": "3fab09c1-4a09-481b-8b4e-b7c43e27c04e",
   "metadata": {},
   "outputs": [],
   "source": [
    "from sklearn.naive_bayes import GaussianNB\n",
    "from sklearn.tree import DecisionTreeClassifier\n",
    "from sklearn.neighbors import KNeighborsClassifier\n",
    "from sklearn.linear_model import LogisticRegression\n",
    "from sklearn.svm import SVC"
   ]
  },
  {
   "cell_type": "code",
   "execution_count": 10,
   "id": "850aed3e-8d4f-4bff-a94b-62aaf48b64b0",
   "metadata": {},
   "outputs": [
    {
     "name": "stderr",
     "output_type": "stream",
     "text": [
      "C:\\Users\\amani\\AppData\\Local\\Programs\\Python\\Python312\\Lib\\site-packages\\sklearn\\base.py:376: InconsistentVersionWarning: Trying to unpickle estimator GaussianNB from version 1.4.2 when using version 1.4.0. This might lead to breaking code or invalid results. Use at your own risk. For more info please refer to:\n",
      "https://scikit-learn.org/stable/model_persistence.html#security-maintainability-limitations\n",
      "  warnings.warn(\n",
      "C:\\Users\\amani\\AppData\\Local\\Programs\\Python\\Python312\\Lib\\site-packages\\sklearn\\base.py:376: InconsistentVersionWarning: Trying to unpickle estimator DecisionTreeClassifier from version 1.4.2 when using version 1.4.0. This might lead to breaking code or invalid results. Use at your own risk. For more info please refer to:\n",
      "https://scikit-learn.org/stable/model_persistence.html#security-maintainability-limitations\n",
      "  warnings.warn(\n",
      "C:\\Users\\amani\\AppData\\Local\\Programs\\Python\\Python312\\Lib\\site-packages\\sklearn\\base.py:376: InconsistentVersionWarning: Trying to unpickle estimator KNeighborsClassifier from version 1.4.2 when using version 1.4.0. This might lead to breaking code or invalid results. Use at your own risk. For more info please refer to:\n",
      "https://scikit-learn.org/stable/model_persistence.html#security-maintainability-limitations\n",
      "  warnings.warn(\n",
      "C:\\Users\\amani\\AppData\\Local\\Programs\\Python\\Python312\\Lib\\site-packages\\sklearn\\base.py:376: InconsistentVersionWarning: Trying to unpickle estimator LogisticRegression from version 1.4.2 when using version 1.4.0. This might lead to breaking code or invalid results. Use at your own risk. For more info please refer to:\n",
      "https://scikit-learn.org/stable/model_persistence.html#security-maintainability-limitations\n",
      "  warnings.warn(\n",
      "C:\\Users\\amani\\AppData\\Local\\Programs\\Python\\Python312\\Lib\\site-packages\\sklearn\\base.py:376: InconsistentVersionWarning: Trying to unpickle estimator SVC from version 1.4.2 when using version 1.4.0. This might lead to breaking code or invalid results. Use at your own risk. For more info please refer to:\n",
      "https://scikit-learn.org/stable/model_persistence.html#security-maintainability-limitations\n",
      "  warnings.warn(\n"
     ]
    }
   ],
   "source": [
    "sklearn_models = load(\"Other Models/sklearn_models.joblib\")"
   ]
  },
  {
   "cell_type": "markdown",
   "id": "e38e8a25-1f51-48d0-894b-6981c9244c2c",
   "metadata": {},
   "source": [
    "Load the Resnets"
   ]
  },
  {
   "cell_type": "code",
   "execution_count": 45,
   "id": "1ff86063-e8be-4fea-af6d-27cd8245c260",
   "metadata": {},
   "outputs": [],
   "source": [
    "import torch\n",
    "from torchvision import transforms"
   ]
  },
  {
   "cell_type": "code",
   "execution_count": 46,
   "id": "ee2fd5f8-5044-4a4b-bdb5-0f229e251831",
   "metadata": {},
   "outputs": [],
   "source": [
    "data_transform = transforms.Compose([\n",
    "    transforms.ToTensor(),\n",
    "    transforms.Normalize(mean=[.5], std=[.5])\n",
    "])"
   ]
  },
  {
   "cell_type": "code",
   "execution_count": 19,
   "id": "62c75e30-c8af-4be8-adf7-32a915092056",
   "metadata": {},
   "outputs": [],
   "source": [
    "resnet_pneumonia = torch.load(\"Resnet/resnet_pneumonia.pt\", map_location=torch.device('cpu'))\n",
    "resnet_breast = torch.load(\"Resnet/resnet_breast.pt\", map_location=torch.device('cpu'))"
   ]
  },
  {
   "cell_type": "code",
   "execution_count": 23,
   "id": "d0ad550d-1600-4713-a886-d30e14edce01",
   "metadata": {},
   "outputs": [
    {
     "data": {
      "text/plain": [
       "ResNet(\n",
       "  (conv1): Conv2d(1, 64, kernel_size=(7, 7), stride=(2, 2), padding=(3, 3), bias=False)\n",
       "  (bn1): BatchNorm2d(64, eps=1e-05, momentum=0.1, affine=True, track_running_stats=True)\n",
       "  (relu): ReLU(inplace=True)\n",
       "  (maxpool): MaxPool2d(kernel_size=3, stride=2, padding=1, dilation=1, ceil_mode=False)\n",
       "  (layer1): Sequential(\n",
       "    (0): BasicBlock(\n",
       "      (conv1): Conv2d(64, 64, kernel_size=(3, 3), stride=(1, 1), padding=(1, 1), bias=False)\n",
       "      (bn1): BatchNorm2d(64, eps=1e-05, momentum=0.1, affine=True, track_running_stats=True)\n",
       "      (relu): ReLU(inplace=True)\n",
       "      (conv2): Conv2d(64, 64, kernel_size=(3, 3), stride=(1, 1), padding=(1, 1), bias=False)\n",
       "      (bn2): BatchNorm2d(64, eps=1e-05, momentum=0.1, affine=True, track_running_stats=True)\n",
       "    )\n",
       "    (1): BasicBlock(\n",
       "      (conv1): Conv2d(64, 64, kernel_size=(3, 3), stride=(1, 1), padding=(1, 1), bias=False)\n",
       "      (bn1): BatchNorm2d(64, eps=1e-05, momentum=0.1, affine=True, track_running_stats=True)\n",
       "      (relu): ReLU(inplace=True)\n",
       "      (conv2): Conv2d(64, 64, kernel_size=(3, 3), stride=(1, 1), padding=(1, 1), bias=False)\n",
       "      (bn2): BatchNorm2d(64, eps=1e-05, momentum=0.1, affine=True, track_running_stats=True)\n",
       "    )\n",
       "  )\n",
       "  (layer2): Sequential(\n",
       "    (0): BasicBlock(\n",
       "      (conv1): Conv2d(64, 128, kernel_size=(3, 3), stride=(2, 2), padding=(1, 1), bias=False)\n",
       "      (bn1): BatchNorm2d(128, eps=1e-05, momentum=0.1, affine=True, track_running_stats=True)\n",
       "      (relu): ReLU(inplace=True)\n",
       "      (conv2): Conv2d(128, 128, kernel_size=(3, 3), stride=(1, 1), padding=(1, 1), bias=False)\n",
       "      (bn2): BatchNorm2d(128, eps=1e-05, momentum=0.1, affine=True, track_running_stats=True)\n",
       "      (downsample): Sequential(\n",
       "        (0): Conv2d(64, 128, kernel_size=(1, 1), stride=(2, 2), bias=False)\n",
       "        (1): BatchNorm2d(128, eps=1e-05, momentum=0.1, affine=True, track_running_stats=True)\n",
       "      )\n",
       "    )\n",
       "    (1): BasicBlock(\n",
       "      (conv1): Conv2d(128, 128, kernel_size=(3, 3), stride=(1, 1), padding=(1, 1), bias=False)\n",
       "      (bn1): BatchNorm2d(128, eps=1e-05, momentum=0.1, affine=True, track_running_stats=True)\n",
       "      (relu): ReLU(inplace=True)\n",
       "      (conv2): Conv2d(128, 128, kernel_size=(3, 3), stride=(1, 1), padding=(1, 1), bias=False)\n",
       "      (bn2): BatchNorm2d(128, eps=1e-05, momentum=0.1, affine=True, track_running_stats=True)\n",
       "    )\n",
       "  )\n",
       "  (layer3): Sequential(\n",
       "    (0): BasicBlock(\n",
       "      (conv1): Conv2d(128, 256, kernel_size=(3, 3), stride=(2, 2), padding=(1, 1), bias=False)\n",
       "      (bn1): BatchNorm2d(256, eps=1e-05, momentum=0.1, affine=True, track_running_stats=True)\n",
       "      (relu): ReLU(inplace=True)\n",
       "      (conv2): Conv2d(256, 256, kernel_size=(3, 3), stride=(1, 1), padding=(1, 1), bias=False)\n",
       "      (bn2): BatchNorm2d(256, eps=1e-05, momentum=0.1, affine=True, track_running_stats=True)\n",
       "      (downsample): Sequential(\n",
       "        (0): Conv2d(128, 256, kernel_size=(1, 1), stride=(2, 2), bias=False)\n",
       "        (1): BatchNorm2d(256, eps=1e-05, momentum=0.1, affine=True, track_running_stats=True)\n",
       "      )\n",
       "    )\n",
       "    (1): BasicBlock(\n",
       "      (conv1): Conv2d(256, 256, kernel_size=(3, 3), stride=(1, 1), padding=(1, 1), bias=False)\n",
       "      (bn1): BatchNorm2d(256, eps=1e-05, momentum=0.1, affine=True, track_running_stats=True)\n",
       "      (relu): ReLU(inplace=True)\n",
       "      (conv2): Conv2d(256, 256, kernel_size=(3, 3), stride=(1, 1), padding=(1, 1), bias=False)\n",
       "      (bn2): BatchNorm2d(256, eps=1e-05, momentum=0.1, affine=True, track_running_stats=True)\n",
       "    )\n",
       "  )\n",
       "  (layer4): Sequential(\n",
       "    (0): BasicBlock(\n",
       "      (conv1): Conv2d(256, 512, kernel_size=(3, 3), stride=(2, 2), padding=(1, 1), bias=False)\n",
       "      (bn1): BatchNorm2d(512, eps=1e-05, momentum=0.1, affine=True, track_running_stats=True)\n",
       "      (relu): ReLU(inplace=True)\n",
       "      (conv2): Conv2d(512, 512, kernel_size=(3, 3), stride=(1, 1), padding=(1, 1), bias=False)\n",
       "      (bn2): BatchNorm2d(512, eps=1e-05, momentum=0.1, affine=True, track_running_stats=True)\n",
       "      (downsample): Sequential(\n",
       "        (0): Conv2d(256, 512, kernel_size=(1, 1), stride=(2, 2), bias=False)\n",
       "        (1): BatchNorm2d(512, eps=1e-05, momentum=0.1, affine=True, track_running_stats=True)\n",
       "      )\n",
       "    )\n",
       "    (1): BasicBlock(\n",
       "      (conv1): Conv2d(512, 512, kernel_size=(3, 3), stride=(1, 1), padding=(1, 1), bias=False)\n",
       "      (bn1): BatchNorm2d(512, eps=1e-05, momentum=0.1, affine=True, track_running_stats=True)\n",
       "      (relu): ReLU(inplace=True)\n",
       "      (conv2): Conv2d(512, 512, kernel_size=(3, 3), stride=(1, 1), padding=(1, 1), bias=False)\n",
       "      (bn2): BatchNorm2d(512, eps=1e-05, momentum=0.1, affine=True, track_running_stats=True)\n",
       "    )\n",
       "  )\n",
       "  (avgpool): AdaptiveAvgPool2d(output_size=(1, 1))\n",
       "  (fc): Linear(in_features=512, out_features=1, bias=True)\n",
       ")"
      ]
     },
     "execution_count": 23,
     "metadata": {},
     "output_type": "execute_result"
    }
   ],
   "source": [
    "resnet_breast.eval()\n",
    "resnet_pneumonia.eval()"
   ]
  },
  {
   "cell_type": "code",
   "execution_count": 53,
   "id": "97a0898c-05b4-4d4a-913d-8fd1daf6ea3a",
   "metadata": {},
   "outputs": [
    {
     "name": "stdout",
     "output_type": "stream",
     "text": [
      "tensor([[0.9863]])\n"
     ]
    }
   ],
   "source": [
    "input_tensor = data_transform(breast_trainX[0])\n",
    "input_batch = input_tensor.unsqueeze(0)\n",
    "\n",
    "with torch.no_grad():\n",
    "    output = torch.sigmoid(resnet_breast(input_batch))\n",
    "print(output)"
   ]
  },
  {
   "cell_type": "markdown",
   "id": "60c59e5e-ed42-402d-b70a-8defcaf91425",
   "metadata": {},
   "source": [
    "## Combine Models Together"
   ]
  },
  {
   "cell_type": "markdown",
   "id": "16027887-7ab2-4fc1-bf2c-96193666721f",
   "metadata": {},
   "source": [
    "### Breast Data"
   ]
  },
  {
   "cell_type": "code",
   "execution_count": 77,
   "id": "cf91bdc5-07ba-4673-a73f-59e070f0fd6e",
   "metadata": {},
   "outputs": [
    {
     "data": {
      "text/plain": [
       "{'decision_tree': {'breast': DecisionTreeClassifier(min_samples_leaf=10, min_samples_split=3),\n",
       "  'pneumonia': DecisionTreeClassifier(min_samples_leaf=10, min_samples_split=3)},\n",
       " 'knn': {'breast': KNeighborsClassifier(metric='correlation', n_neighbors=1, weights='distance'),\n",
       "  'pneumonia': KNeighborsClassifier(metric='correlation', n_neighbors=1, weights='distance')},\n",
       " 'logistic': {'breast': LogisticRegression(C=100000, penalty='l1', solver='liblinear'),\n",
       "  'pneumonia': LogisticRegression(C=100000, penalty='l1', solver='liblinear')},\n",
       " 'svc': {'breast': SVC(C=10, probability=True),\n",
       "  'pneumonia': SVC(C=10, probability=True)}}"
      ]
     },
     "execution_count": 77,
     "metadata": {},
     "output_type": "execute_result"
    }
   ],
   "source": [
    "sklearn_models"
   ]
  },
  {
   "cell_type": "code",
   "execution_count": 90,
   "id": "8053bff0-8d11-40ca-91bb-78bd03be994a",
   "metadata": {},
   "outputs": [],
   "source": [
    "probs = []\n",
    "for idx in range(len(breast_testX)):\n",
    "    prob = []\n",
    "    for model in sklearn_models:\n",
    "        prob.append(sklearn_models[model][\"breast\"].predict_proba(np.array([breast_testX_sk[idx]]))[:, 1][0])\n",
    "        \n",
    "    input_tensor = data_transform(breast_trainX[0]).unsqueeze(0)\n",
    "    \n",
    "    with torch.no_grad():\n",
    "        output = torch.sigmoid(resnet_breast(input_tensor))\n",
    "    prob.append(float(output[0][0]))\n",
    "\n",
    "    probs.append(sum(prob)/len(prob))"
   ]
  },
  {
   "cell_type": "code",
   "execution_count": 93,
   "id": "126e638b-b6e6-48e6-8c11-77b57404d677",
   "metadata": {},
   "outputs": [
    {
     "data": {
      "text/plain": [
       "0.8995405179615706"
      ]
     },
     "execution_count": 93,
     "metadata": {},
     "output_type": "execute_result"
    }
   ],
   "source": [
    "roc_auc_score(breast_testY_sk, probs)"
   ]
  },
  {
   "cell_type": "markdown",
   "id": "368f86a4-1ac8-498a-b975-d048ad27072d",
   "metadata": {},
   "source": [
    "### Pneumonia Data"
   ]
  },
  {
   "cell_type": "code",
   "execution_count": 96,
   "id": "e7ae78cb-944c-4e43-b0ed-174a6c912766",
   "metadata": {},
   "outputs": [],
   "source": [
    "probs = []\n",
    "for idx in range(len(pneumonia_testX)):\n",
    "    prob = []\n",
    "    for model in sklearn_models:\n",
    "        prob.append(sklearn_models[model][\"pneumonia\"].predict_proba(np.array([pneumonia_testX_sk[idx]]))[:, 1][0])\n",
    "        \n",
    "    input_tensor = data_transform(pneumonia_trainX[0]).unsqueeze(0)\n",
    "    \n",
    "    with torch.no_grad():\n",
    "        output = torch.sigmoid(resnet_pneumonia(input_tensor))\n",
    "    prob.append(float(output[0][0]))\n",
    "\n",
    "    probs.append(sum(prob)/len(prob))"
   ]
  },
  {
   "cell_type": "code",
   "execution_count": 97,
   "id": "3485e290-40fc-4103-a110-611cd073b27f",
   "metadata": {},
   "outputs": [
    {
     "data": {
      "text/plain": [
       "0.9375410913872453"
      ]
     },
     "execution_count": 97,
     "metadata": {},
     "output_type": "execute_result"
    }
   ],
   "source": [
    "roc_auc_score(pneumonia_testY_sk, probs)"
   ]
  }
 ],
 "metadata": {
  "kernelspec": {
   "display_name": "Python 3 (ipykernel)",
   "language": "python",
   "name": "python3"
  },
  "language_info": {
   "codemirror_mode": {
    "name": "ipython",
    "version": 3
   },
   "file_extension": ".py",
   "mimetype": "text/x-python",
   "name": "python",
   "nbconvert_exporter": "python",
   "pygments_lexer": "ipython3",
   "version": "3.12.1"
  }
 },
 "nbformat": 4,
 "nbformat_minor": 5
}
